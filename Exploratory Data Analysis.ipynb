{
 "cells": [
  {
   "cell_type": "code",
   "execution_count": 1,
   "id": "every-syndication",
   "metadata": {},
   "outputs": [],
   "source": [
    "import pandas as pd\n",
    "import numpy as np\n",
    "from scipy.stats import skew\n",
    "import matplotlib.pyplot as plt\n",
    "import seaborn as sns\n",
    "import warnings\n",
    "from sklearn.impute import KNNImputer\n",
    "\n",
    "warnings.filterwarnings(\"ignore\") \n",
    "plt.style.use('seaborn-whitegrid') ###personal setting for the graphs\n"
   ]
  },
  {
   "cell_type": "markdown",
   "id": "casual-radical",
   "metadata": {},
   "source": [
    "# Plan\n",
    "\n",
    "1. Identify the number and type of features \n",
    "    \n",
    "2. Find the number/percentage of missing data for each feature \n",
    "    * visualize the results with a bar chart Identify the number and type of features \n",
    "\n",
    "3. Data distribution patterns\n",
    "    * test the features and target variable for normalty \n",
    "    * plot them on histograms to visualize if they are normally distributed \n",
    "    * test transformations to achieve normal data \n",
    "    * visualize the results\n",
    "    \n",
    "4. Data correlations \n",
    "    * examine the correlation of each feature with the target variable \n",
    "    * examine the multicolinearity between features \n",
    "        * can also use pairplots \n",
    "    * suggests solutions to the challenges that are observed\n",
    "    \n",
    "5. Visualize dimension reductions \n",
    "    * segment the target Variable \n",
    "    * conduct PCA and visualize the results \n",
    "    * conduction TSNE analysis "
   ]
  },
  {
   "cell_type": "markdown",
   "id": "greater-turner",
   "metadata": {},
   "source": [
    "# Data Summary\n",
    "\n",
    "1. Load the Data \n",
    "2. Identify initial dimensions \n",
    "3. Find missing variables for each feature and graph them - bar/scatter plot\n",
    "5. find missing feature for each example and graph them - scartter plot"
   ]
  },
  {
   "cell_type": "code",
   "execution_count": 2,
   "id": "micro-detector",
   "metadata": {},
   "outputs": [
    {
     "name": "stdout",
     "output_type": "stream",
     "text": [
      "The number of repeated data points are: 0\n",
      "The number of features is: 80\n",
      "The number of instances is: 1460\n",
      "\n",
      "\n",
      "\n",
      "The first 5 rows of the raw dataset:\n",
      "\n",
      "\n"
     ]
    },
    {
     "data": {
      "text/html": [
       "<div>\n",
       "<style scoped>\n",
       "    .dataframe tbody tr th:only-of-type {\n",
       "        vertical-align: middle;\n",
       "    }\n",
       "\n",
       "    .dataframe tbody tr th {\n",
       "        vertical-align: top;\n",
       "    }\n",
       "\n",
       "    .dataframe thead th {\n",
       "        text-align: right;\n",
       "    }\n",
       "</style>\n",
       "<table border=\"1\" class=\"dataframe\">\n",
       "  <thead>\n",
       "    <tr style=\"text-align: right;\">\n",
       "      <th></th>\n",
       "      <th>MSSubClass</th>\n",
       "      <th>MSZoning</th>\n",
       "      <th>LotFrontage</th>\n",
       "      <th>LotArea</th>\n",
       "      <th>Street</th>\n",
       "      <th>Alley</th>\n",
       "      <th>LotShape</th>\n",
       "      <th>LandContour</th>\n",
       "      <th>Utilities</th>\n",
       "      <th>LotConfig</th>\n",
       "      <th>...</th>\n",
       "      <th>PoolArea</th>\n",
       "      <th>PoolQC</th>\n",
       "      <th>Fence</th>\n",
       "      <th>MiscFeature</th>\n",
       "      <th>MiscVal</th>\n",
       "      <th>MoSold</th>\n",
       "      <th>YrSold</th>\n",
       "      <th>SaleType</th>\n",
       "      <th>SaleCondition</th>\n",
       "      <th>SalePrice</th>\n",
       "    </tr>\n",
       "  </thead>\n",
       "  <tbody>\n",
       "    <tr>\n",
       "      <th>0</th>\n",
       "      <td>60</td>\n",
       "      <td>RL</td>\n",
       "      <td>65.0</td>\n",
       "      <td>8450</td>\n",
       "      <td>Pave</td>\n",
       "      <td>NaN</td>\n",
       "      <td>Reg</td>\n",
       "      <td>Lvl</td>\n",
       "      <td>AllPub</td>\n",
       "      <td>Inside</td>\n",
       "      <td>...</td>\n",
       "      <td>0</td>\n",
       "      <td>NaN</td>\n",
       "      <td>NaN</td>\n",
       "      <td>NaN</td>\n",
       "      <td>0</td>\n",
       "      <td>2</td>\n",
       "      <td>2008</td>\n",
       "      <td>WD</td>\n",
       "      <td>Normal</td>\n",
       "      <td>208500</td>\n",
       "    </tr>\n",
       "    <tr>\n",
       "      <th>1</th>\n",
       "      <td>20</td>\n",
       "      <td>RL</td>\n",
       "      <td>80.0</td>\n",
       "      <td>9600</td>\n",
       "      <td>Pave</td>\n",
       "      <td>NaN</td>\n",
       "      <td>Reg</td>\n",
       "      <td>Lvl</td>\n",
       "      <td>AllPub</td>\n",
       "      <td>FR2</td>\n",
       "      <td>...</td>\n",
       "      <td>0</td>\n",
       "      <td>NaN</td>\n",
       "      <td>NaN</td>\n",
       "      <td>NaN</td>\n",
       "      <td>0</td>\n",
       "      <td>5</td>\n",
       "      <td>2007</td>\n",
       "      <td>WD</td>\n",
       "      <td>Normal</td>\n",
       "      <td>181500</td>\n",
       "    </tr>\n",
       "    <tr>\n",
       "      <th>2</th>\n",
       "      <td>60</td>\n",
       "      <td>RL</td>\n",
       "      <td>68.0</td>\n",
       "      <td>11250</td>\n",
       "      <td>Pave</td>\n",
       "      <td>NaN</td>\n",
       "      <td>IR1</td>\n",
       "      <td>Lvl</td>\n",
       "      <td>AllPub</td>\n",
       "      <td>Inside</td>\n",
       "      <td>...</td>\n",
       "      <td>0</td>\n",
       "      <td>NaN</td>\n",
       "      <td>NaN</td>\n",
       "      <td>NaN</td>\n",
       "      <td>0</td>\n",
       "      <td>9</td>\n",
       "      <td>2008</td>\n",
       "      <td>WD</td>\n",
       "      <td>Normal</td>\n",
       "      <td>223500</td>\n",
       "    </tr>\n",
       "    <tr>\n",
       "      <th>3</th>\n",
       "      <td>70</td>\n",
       "      <td>RL</td>\n",
       "      <td>60.0</td>\n",
       "      <td>9550</td>\n",
       "      <td>Pave</td>\n",
       "      <td>NaN</td>\n",
       "      <td>IR1</td>\n",
       "      <td>Lvl</td>\n",
       "      <td>AllPub</td>\n",
       "      <td>Corner</td>\n",
       "      <td>...</td>\n",
       "      <td>0</td>\n",
       "      <td>NaN</td>\n",
       "      <td>NaN</td>\n",
       "      <td>NaN</td>\n",
       "      <td>0</td>\n",
       "      <td>2</td>\n",
       "      <td>2006</td>\n",
       "      <td>WD</td>\n",
       "      <td>Abnorml</td>\n",
       "      <td>140000</td>\n",
       "    </tr>\n",
       "    <tr>\n",
       "      <th>4</th>\n",
       "      <td>60</td>\n",
       "      <td>RL</td>\n",
       "      <td>84.0</td>\n",
       "      <td>14260</td>\n",
       "      <td>Pave</td>\n",
       "      <td>NaN</td>\n",
       "      <td>IR1</td>\n",
       "      <td>Lvl</td>\n",
       "      <td>AllPub</td>\n",
       "      <td>FR2</td>\n",
       "      <td>...</td>\n",
       "      <td>0</td>\n",
       "      <td>NaN</td>\n",
       "      <td>NaN</td>\n",
       "      <td>NaN</td>\n",
       "      <td>0</td>\n",
       "      <td>12</td>\n",
       "      <td>2008</td>\n",
       "      <td>WD</td>\n",
       "      <td>Normal</td>\n",
       "      <td>250000</td>\n",
       "    </tr>\n",
       "  </tbody>\n",
       "</table>\n",
       "<p>5 rows × 80 columns</p>\n",
       "</div>"
      ],
      "text/plain": [
       "   MSSubClass MSZoning  LotFrontage  LotArea Street Alley LotShape  \\\n",
       "0          60       RL         65.0     8450   Pave   NaN      Reg   \n",
       "1          20       RL         80.0     9600   Pave   NaN      Reg   \n",
       "2          60       RL         68.0    11250   Pave   NaN      IR1   \n",
       "3          70       RL         60.0     9550   Pave   NaN      IR1   \n",
       "4          60       RL         84.0    14260   Pave   NaN      IR1   \n",
       "\n",
       "  LandContour Utilities LotConfig  ... PoolArea PoolQC Fence MiscFeature  \\\n",
       "0         Lvl    AllPub    Inside  ...        0    NaN   NaN         NaN   \n",
       "1         Lvl    AllPub       FR2  ...        0    NaN   NaN         NaN   \n",
       "2         Lvl    AllPub    Inside  ...        0    NaN   NaN         NaN   \n",
       "3         Lvl    AllPub    Corner  ...        0    NaN   NaN         NaN   \n",
       "4         Lvl    AllPub       FR2  ...        0    NaN   NaN         NaN   \n",
       "\n",
       "  MiscVal MoSold  YrSold  SaleType  SaleCondition  SalePrice  \n",
       "0       0      2    2008        WD         Normal     208500  \n",
       "1       0      5    2007        WD         Normal     181500  \n",
       "2       0      9    2008        WD         Normal     223500  \n",
       "3       0      2    2006        WD        Abnorml     140000  \n",
       "4       0     12    2008        WD         Normal     250000  \n",
       "\n",
       "[5 rows x 80 columns]"
      ]
     },
     "execution_count": 2,
     "metadata": {},
     "output_type": "execute_result"
    }
   ],
   "source": [
    "# loading the data \n",
    "\n",
    "raw_df = pd.read_csv(\"train.csv\")\n",
    "\n",
    "print(f\"The number of repeated data points are: {raw_df.shape[0] - len(set(raw_df.Id))}\") # setting the Ids to ensure single counts only\n",
    "raw_df.drop('Id', axis=1, inplace = True)\n",
    "print(f\"The number of features is: {raw_df.shape[1]}\")\n",
    "print(f\"The number of instances is: {raw_df.shape[0]}\")\n",
    "print(\"\\n\\n\")\n",
    "\n",
    "print(\"The first 5 rows of the raw dataset:\")\n",
    "print(\"\\n\")\n",
    "raw_df.head()"
   ]
  },
  {
   "cell_type": "code",
   "execution_count": 3,
   "id": "conditional-steel",
   "metadata": {},
   "outputs": [
    {
     "data": {
      "image/png": "[encoded data removed]",
      "text/plain": [
       "<Figure size 720x504 with 1 Axes>"
      ]
     },
     "metadata": {},
     "output_type": "display_data"
    }
   ],
   "source": [
    "# inspecting the data types assigned when we uploaded the csv \n",
    "\n",
    "# visualizing the distribution of dtypes \n",
    "def visualize_dtypes(df):\n",
    "    dtypes_list = []\n",
    "\n",
    "    # calculating the counts of each feature\n",
    "    for feature in df.columns:\n",
    "        feature_dtype = df[feature].dtype.name\n",
    "        dtypes_list.append(feature_dtype)\n",
    "\n",
    "    fig,axes = plt.subplots(figsize=(10,7))\n",
    "    axes = sns.countplot(y=dtypes_list)\n",
    "    plt.xlabel('Counts')\n",
    "    plt.ylabel('Data Type')\n",
    "    plt.title('A graph of Data Type VS Counts')\n",
    "    plt.show()\n",
    "    \n",
    "    return None\n",
    "\n",
    "visualize_dtypes(raw_df)"
   ]
  },
  {
   "cell_type": "code",
   "execution_count": 4,
   "id": "fancy-military",
   "metadata": {},
   "outputs": [
    {
     "name": "stdout",
     "output_type": "stream",
     "text": [
      "<class 'pandas.core.frame.DataFrame'>\n",
      "RangeIndex: 1460 entries, 0 to 1459\n",
      "Data columns (total 80 columns):\n",
      " #   Column         Non-Null Count  Dtype  \n",
      "---  ------         --------------  -----  \n",
      " 0   MSSubClass     1460 non-null   int64  \n",
      " 1   MSZoning       1460 non-null   object \n",
      " 2   LotFrontage    1201 non-null   float64\n",
      " 3   LotArea        1460 non-null   int64  \n",
      " 4   Street         1460 non-null   object \n",
      " 5   Alley          91 non-null     object \n",
      " 6   LotShape       1460 non-null   object \n",
      " 7   LandContour    1460 non-null   object \n",
      " 8   Utilities      1460 non-null   object \n",
      " 9   LotConfig      1460 non-null   object \n",
      " 10  LandSlope      1460 non-null   object \n",
      " 11  Neighborhood   1460 non-null   object \n",
      " 12  Condition1     1460 non-null   object \n",
      " 13  Condition2     1460 non-null   object \n",
      " 14  BldgType       1460 non-null   object \n",
      " 15  HouseStyle     1460 non-null   object \n",
      " 16  OverallQual    1460 non-null   int64  \n",
      " 17  OverallCond    1460 non-null   int64  \n",
      " 18  YearBuilt      1460 non-null   int64  \n",
      " 19  YearRemodAdd   1460 non-null   int64  \n",
      " 20  RoofStyle      1460 non-null   object \n",
      " 21  RoofMatl       1460 non-null   object \n",
      " 22  Exterior1st    1460 non-null   object \n",
      " 23  Exterior2nd    1460 non-null   object \n",
      " 24  MasVnrType     1452 non-null   object \n",
      " 25  MasVnrArea     1452 non-null   float64\n",
      " 26  ExterQual      1460 non-null   object \n",
      " 27  ExterCond      1460 non-null   object \n",
      " 28  Foundation     1460 non-null   object \n",
      " 29  BsmtQual       1423 non-null   object \n",
      " 30  BsmtCond       1423 non-null   object \n",
      " 31  BsmtExposure   1422 non-null   object \n",
      " 32  BsmtFinType1   1423 non-null   object \n",
      " 33  BsmtFinSF1     1460 non-null   int64  \n",
      " 34  BsmtFinType2   1422 non-null   object \n",
      " 35  BsmtFinSF2     1460 non-null   int64  \n",
      " 36  BsmtUnfSF      1460 non-null   int64  \n",
      " 37  TotalBsmtSF    1460 non-null   int64  \n",
      " 38  Heating        1460 non-null   object \n",
      " 39  HeatingQC      1460 non-null   object \n",
      " 40  CentralAir     1460 non-null   object \n",
      " 41  Electrical     1459 non-null   object \n",
      " 42  1stFlrSF       1460 non-null   int64  \n",
      " 43  2ndFlrSF       1460 non-null   int64  \n",
      " 44  LowQualFinSF   1460 non-null   int64  \n",
      " 45  GrLivArea      1460 non-null   int64  \n",
      " 46  BsmtFullBath   1460 non-null   int64  \n",
      " 47  BsmtHalfBath   1460 non-null   int64  \n",
      " 48  FullBath       1460 non-null   int64  \n",
      " 49  HalfBath       1460 non-null   int64  \n",
      " 50  BedroomAbvGr   1460 non-null   int64  \n",
      " 51  KitchenAbvGr   1460 non-null   int64  \n",
      " 52  KitchenQual    1460 non-null   object \n",
      " 53  TotRmsAbvGrd   1460 non-null   int64  \n",
      " 54  Functional     1460 non-null   object \n",
      " 55  Fireplaces     1460 non-null   int64  \n",
      " 56  FireplaceQu    770 non-null    object \n",
      " 57  GarageType     1379 non-null   object \n",
      " 58  GarageYrBlt    1379 non-null   float64\n",
      " 59  GarageFinish   1379 non-null   object \n",
      " 60  GarageCars     1460 non-null   int64  \n",
      " 61  GarageArea     1460 non-null   int64  \n",
      " 62  GarageQual     1379 non-null   object \n",
      " 63  GarageCond     1379 non-null   object \n",
      " 64  PavedDrive     1460 non-null   object \n",
      " 65  WoodDeckSF     1460 non-null   int64  \n",
      " 66  OpenPorchSF    1460 non-null   int64  \n",
      " 67  EnclosedPorch  1460 non-null   int64  \n",
      " 68  3SsnPorch      1460 non-null   int64  \n",
      " 69  ScreenPorch    1460 non-null   int64  \n",
      " 70  PoolArea       1460 non-null   int64  \n",
      " 71  PoolQC         7 non-null      object \n",
      " 72  Fence          281 non-null    object \n",
      " 73  MiscFeature    54 non-null     object \n",
      " 74  MiscVal        1460 non-null   int64  \n",
      " 75  MoSold         1460 non-null   int64  \n",
      " 76  YrSold         1460 non-null   int64  \n",
      " 77  SaleType       1460 non-null   object \n",
      " 78  SaleCondition  1460 non-null   object \n",
      " 79  SalePrice      1460 non-null   int64  \n",
      "dtypes: float64(3), int64(34), object(43)\n",
      "memory usage: 912.6+ KB\n"
     ]
    }
   ],
   "source": [
    "# further inspection of data types assigned \n",
    "raw_df.info()"
   ]
  },
  {
   "cell_type": "markdown",
   "id": "together-donor",
   "metadata": {},
   "source": [
    "The assigned data types are not representative of the true type for some of the features. Reading metadata that contains description of what each feature contains helped me identify the actual data types I would like to use. All features that contain continous variables will be converted to 'numeric' type and the rest will be converted to the 'category' type.\n",
    "\n",
    "Certain features like 'GarageCars' and 'FullBath' were initially assigned the int type but were placed in the categorical data section because they were assessed and found to be ordinal variables."
   ]
  },
  {
   "cell_type": "code",
   "execution_count": 5,
   "id": "floral-activation",
   "metadata": {},
   "outputs": [
    {
     "data": {
      "image/png": "[encoded data removed]",
      "text/plain": [
       "<Figure size 720x504 with 1 Axes>"
      ]
     },
     "metadata": {},
     "output_type": "display_data"
    }
   ],
   "source": [
    "# Changing some default data types\n",
    "\n",
    "feature_dtypes = {'MSSubClass':'category', 'MSZoning':'category', 'LotFrontage':'numeric', 'LotArea':'numeric', 'Street':'category',\n",
    "       'Alley':'category', 'LotShape':'category', 'LandContour':'category', 'Utilities':'category', 'LotConfig':'category',\n",
    "       'LandSlope':'category', 'Neighborhood':'category', 'Condition1':'category', 'Condition2':'category', 'BldgType':'category',\n",
    "       'HouseStyle':'category', 'OverallQual':'category', 'OverallCond':'category', 'YearBuilt':'category', 'YearRemodAdd':'category',\n",
    "       'RoofStyle':'category', 'RoofMatl':'category', 'Exterior1st':'category', 'Exterior2nd':'category', 'MasVnrType':'category',\n",
    "       'MasVnrArea':'numeric', 'ExterQual':'category', 'ExterCond':'category', 'Foundation':'category', 'BsmtQual':'category',\n",
    "       'BsmtCond':'category', 'BsmtExposure':'category', 'BsmtFinType1':'category', 'BsmtFinSF1':'numeric',\n",
    "       'BsmtFinType2':'category', 'BsmtFinSF2':'numeric', 'BsmtUnfSF':'numeric', 'TotalBsmtSF':'numeric', 'Heating':'category',\n",
    "       'HeatingQC':'category', 'CentralAir':'category', 'Electrical':'category', '1stFlrSF':'numeric', '2ndFlrSF':'numeric',\n",
    "       'LowQualFinSF':'numeric', 'GrLivArea':'numeric', 'BsmtFullBath':'category', 'BsmtHalfBath':'category', 'FullBath':'category',\n",
    "       'HalfBath':'category', 'BedroomAbvGr':'category', 'KitchenAbvGr':'category', 'KitchenQual':'category',\n",
    "       'TotRmsAbvGrd':'category', 'Functional':'category', 'Fireplaces':'category', 'FireplaceQu':'category', 'GarageType':'category',\n",
    "       'GarageYrBlt':'category', 'GarageFinish':'category', 'GarageCars':'category', 'GarageArea':'numeric', 'GarageQual':'category',\n",
    "       'GarageCond':'category', 'PavedDrive':'category', 'WoodDeckSF':'numeric', 'OpenPorchSF':'numeric',\n",
    "       'EnclosedPorch':'numeric', '3SsnPorch':'numeric', 'ScreenPorch':'numeric', 'PoolArea':'numeric', 'PoolQC':'category',\n",
    "       'Fence':'category', 'MiscFeature':'category', 'MiscVal':'numeric', 'MoSold':'category', 'YrSold':'category', 'SaleType':'category',\n",
    "       'SaleCondition':'category', 'SalePrice':'numeric'}\n",
    "\n",
    "\n",
    "for feature, feature_dtype in feature_dtypes.items():\n",
    "    if feature_dtype == \"category\":\n",
    "        raw_df[f'{feature}'] = raw_df[f'{feature}'].astype(f'{feature_dtype}')\n",
    "    else:\n",
    "        raw_df[f'{feature}'] = pd.to_numeric(raw_df[f'{feature}'])\n",
    "\n",
    "# visualise the new dtypes\n",
    "visualize_dtypes(raw_df)"
   ]
  },
  {
   "cell_type": "markdown",
   "id": "ethical-surfing",
   "metadata": {},
   "source": [
    "It appears that over 2/3 of our features are categorical. Several features denote the year some feature or house was built or sold. They were temporarily marked as categorical variables because they resemble ordinal data more than continous data. They will later be transformed into 'age' but subtracting them from the year the house was sold. 'Age' will be a continous varible. "
   ]
  },
  {
   "cell_type": "markdown",
   "id": "banned-cycling",
   "metadata": {},
   "source": [
    "## Missing Data\n",
    "\n",
    "Missing data is a problem that may affect the ultimate number of examples we have for modeling. The percentage of missing data influences how we will handle such data. If only a few examples are missing within a feature, then we may look at replacing them with the mean or most frequent value for that feature. \n",
    "\n",
    "If an example has too many missing values across to many feature, we may want to delete it all together. This approach can be take for features that has to many values missing as well. For our puposes, features missing more than 10% of the data will be removed as well as examples missing more than 10% of their data.  "
   ]
  },
  {
   "cell_type": "code",
   "execution_count": 6,
   "id": "engaged-belgium",
   "metadata": {},
   "outputs": [
    {
     "data": {
      "image/png": "[encoded data removed]",
      "text/plain": [
       "<Figure size 1080x720 with 1 Axes>"
      ]
     },
     "metadata": {},
     "output_type": "display_data"
    }
   ],
   "source": [
    "# missing values as a percentage of the data \n",
    "\n",
    "missing_data = (raw_df.isnull().sum()/raw_df.shape[0]) * 100\n",
    "missing_data = missing_data[missing_data > 0]\n",
    "missing_data.sort_values(ascending=True,inplace=True)\n",
    "\n",
    "fig,axes = plt.subplots(figsize=(15,10))\n",
    "axes = plt.barh(missing_data.index, width =np.array(missing_data) )\n",
    "plt.xlabel('Percentage Missing Data')\n",
    "plt.ylabel('Feature Name')\n",
    "plt.xticks([x for x in range(0,110,10)])\n",
    "plt.title('Percentage Missing data')\n",
    "plt.show()"
   ]
  },
  {
   "cell_type": "markdown",
   "id": "sensitive-texture",
   "metadata": {},
   "source": [
    "The above graph shows that 6 features have more than 10% missing data. They will be eliminated from the data set before further explorations can be done. Another  12 features are missing about 5% or less of their data. It seems reasonable to impute values for the latter features and disregard the former. There is no missing data in the target variable. "
   ]
  },
  {
   "cell_type": "code",
   "execution_count": 7,
   "id": "intellectual-publisher",
   "metadata": {},
   "outputs": [
    {
     "name": "stdout",
     "output_type": "stream",
     "text": [
      "The number of features is now: 74\n",
      "The number of instances is now : 1460\n",
      "\n",
      "\n",
      "\n"
     ]
    }
   ],
   "source": [
    "# removing columns with too many missing values \n",
    "\n",
    "raw_df.drop(missing_data[missing_data > 10].index, axis = 1, inplace = True)\n",
    "print(f\"The number of features is now: {raw_df.shape[1]}\")\n",
    "print(f\"The number of instances is now : {raw_df.shape[0]}\")\n",
    "print(\"\\n\\n\")"
   ]
  },
  {
   "cell_type": "code",
   "execution_count": 8,
   "id": "viral-chuck",
   "metadata": {},
   "outputs": [
    {
     "data": {
      "image/png": "[encoded data removed]",
      "text/plain": [
       "<Figure size 1080x720 with 1 Axes>"
      ]
     },
     "metadata": {},
     "output_type": "display_data"
    }
   ],
   "source": [
    "# checking instances with missing values \n",
    "\n",
    "instances_missing_data = (raw_df.isnull().sum(axis=1)/raw_df.shape[1]) * 100\n",
    "instances_missing_data = instances_missing_data[instances_missing_data > 0]\n",
    "instances_missing_data.sort_values(ascending=True,inplace=True)\n",
    "\n",
    "fig,axes = plt.subplots(figsize=(15,10))\n",
    "axes = plt.scatter(x=instances_missing_data.index, y =np.array(instances_missing_data) )\n",
    "plt.xlabel('Percent Instances Missing Data')\n",
    "plt.ylabel('Feature Name')\n",
    "plt.title('Percentage Missing data')\n",
    "plt.show()"
   ]
  },
  {
   "cell_type": "markdown",
   "id": "attractive-occasions",
   "metadata": {},
   "source": [
    "There are 7 instances missing over 10% of their data. Another 115 are missing less than 7% data. Those missing above 10 percent data will be disregards and the rest will be imputted. "
   ]
  },
  {
   "cell_type": "code",
   "execution_count": 9,
   "id": "chemical-afghanistan",
   "metadata": {},
   "outputs": [
    {
     "name": "stdout",
     "output_type": "stream",
     "text": [
      "The number of features is now: 74\n",
      "The number of instances is now : 1453\n",
      "\n",
      "\n",
      "\n"
     ]
    }
   ],
   "source": [
    "# removing columns with too many missing values \n",
    "raw_df.drop(instances_missing_data[instances_missing_data > 10].index, axis = 0, inplace = True)\n",
    "\n",
    "print(f\"The number of features is now: {raw_df.shape[1]}\")\n",
    "print(f\"The number of instances is now : {raw_df.shape[0]}\")\n",
    "print(\"\\n\\n\")"
   ]
  },
  {
   "cell_type": "markdown",
   "id": "august-payroll",
   "metadata": {},
   "source": [
    "### Imputing missing data \n",
    "\n",
    "For imputing purposes, the data will be separated between catergorical and numeric. This allows us to use the KNN imputer for numeric variables and use the most frequent value to impute missing values in the categorical features. "
   ]
  },
  {
   "cell_type": "code",
   "execution_count": 17,
   "id": "cardiovascular-conservation",
   "metadata": {},
   "outputs": [],
   "source": [
    "# separating data by type\n",
    "\n",
    "catergorical_df = raw_df[raw_df.select_dtypes(include = [\"category\"]).columns]\n",
    "numeric_df = raw_df[raw_df.select_dtypes(include = [\"float64\", \"int64\"]).columns]"
   ]
  },
  {
   "cell_type": "code",
   "execution_count": 27,
   "id": "extra-dance",
   "metadata": {},
   "outputs": [
    {
     "name": "stdout",
     "output_type": "stream",
     "text": [
      "The numner of missing numeric values is: 8\n"
     ]
    }
   ],
   "source": [
    "# find the number of missing data in the numeric df before imputations \n",
    "print(f\"The numner of missing numeric values is: {numeric_df.isnull().values.sum()}\")"
   ]
  },
  {
   "cell_type": "code",
   "execution_count": 32,
   "id": "caroline-austria",
   "metadata": {},
   "outputs": [
    {
     "name": "stdout",
     "output_type": "stream",
     "text": [
      "The numner of missing numeric values is now:0\n",
      "\n"
     ]
    }
   ],
   "source": [
    "# imputing missing numeric data \n",
    "\n",
    "# define imputer\n",
    "imputer = KNNImputer(n_neighbors=5, weights='uniform', metric='nan_euclidean') # nan_euclidean ignores missing values\n",
    "\n",
    "# fit on the dataset\n",
    "imputer.fit(numeric_df)\n",
    "\n",
    "# fit on the dataset\n",
    "imputer.fit(numeric_df)\n",
    "\n",
    "# transform the dataset\n",
    "numeric_df = imputer.transform(numeric_df)\n",
    "\n",
    "#check for missing data \n",
    "print('The numner of missing numeric values is now:{}\\n'.format(sum(np.isnan(numeric_df).flatten())))\n",
    "\n"
   ]
  },
  {
   "cell_type": "code",
   "execution_count": 33,
   "id": "floral-watershed",
   "metadata": {},
   "outputs": [],
   "source": [
    "# imputing missing categorical data "
   ]
  },
  {
   "cell_type": "code",
   "execution_count": null,
   "id": "unlikely-benefit",
   "metadata": {},
   "outputs": [],
   "source": []
  }
 ],
 "metadata": {
  "kernelspec": {
   "display_name": "Python 3",
   "language": "python",
   "name": "python3"
  },
  "language_info": {
   "codemirror_mode": {
    "name": "ipython",
    "version": 3
   },
   "file_extension": ".py",
   "mimetype": "text/x-python",
   "name": "python",
   "nbconvert_exporter": "python",
   "pygments_lexer": "ipython3",
   "version": "3.8.5"
  }
 },
 "nbformat": 4,
 "nbformat_minor": 5
}
